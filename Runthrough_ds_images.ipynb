{
 "cells": [
  {
   "cell_type": "markdown",
   "metadata": {},
   "source": [
    "# Project"
   ]
  },
  {
   "cell_type": "markdown",
   "metadata": {},
   "source": [
    "Presentation"
   ]
  },
  {
   "cell_type": "markdown",
   "metadata": {},
   "source": [
    "## Library imports"
   ]
  },
  {
   "cell_type": "code",
   "execution_count": 4,
   "metadata": {},
   "outputs": [],
   "source": [
    "import os\n",
    "import time\n",
    "import matplotlib.pyplot as plt\n",
    "import pandas as pd\n",
    "import numpy as np\n",
    "from PIL import Image\n",
    "from PIL.Image import Image as PilImage\n",
    "from utils.utils import *\n",
    "\n",
    "from IPython.display import display\n",
    "from IPython.display import Image as _Imgdis"
   ]
  },
  {
   "cell_type": "markdown",
   "metadata": {},
   "source": [
    "## Data import"
   ]
  },
  {
   "cell_type": "code",
   "execution_count": 14,
   "metadata": {},
   "outputs": [],
   "source": [
    "folder = \"../data/fisheries/Train\"\n",
    "\n",
    "files = [os.path.join(folder, f) for f in os.listdir(folder) if (os.path.isfile(os.path.join(folder, f)) and  \"json\" not in f and \"csv\" not in f)]\n",
    "for file in os.listdir(folder):\n",
    "    if \"csv\" not in file and \"json\" not in file:\n",
    "        im = Image.open(os.path.join(folder, file))\n",
    "        #image size\n",
    "        size=(int(im.size[0]/4),int(im.size[1]/4))\n",
    "        #resize image\n",
    "        out = im.resize(size,resample=2)\n",
    "        #save resized image\n",
    "        out.save('downsampled_input/'+file)"
   ]
  },
  {
   "cell_type": "code",
   "execution_count": 13,
   "metadata": {},
   "outputs": [],
   "source": [
    "folder = \"../data/fisheries/Traindotted\"\n",
    "\n",
    "for file in os.listdir(folder):\n",
    "    if \"csv\" not in file and \"json\" not in file:\n",
    "        im = Image.open(os.path.join(folder, file))\n",
    "        #image size\n",
    "        size=(int(im.size[0]/4),int(im.size[1]/4))\n",
    "        #resize image\n",
    "        out = im.resize(size,resample=2)\n",
    "        #save resized image\n",
    "        out.save('downsampled_dotted/'+file)"
   ]
  }
 ],
 "metadata": {
  "kernelspec": {
   "display_name": "Python 3",
   "language": "python",
   "name": "python3"
  },
  "language_info": {
   "codemirror_mode": {
    "name": "ipython",
    "version": 3
   },
   "file_extension": ".py",
   "mimetype": "text/x-python",
   "name": "python",
   "nbconvert_exporter": "python",
   "pygments_lexer": "ipython3",
   "version": "3.7.6"
  }
 },
 "nbformat": 4,
 "nbformat_minor": 4
}
